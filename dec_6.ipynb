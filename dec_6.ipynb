{
 "cells": [
  {
   "cell_type": "code",
   "execution_count": null,
   "id": "08037736",
   "metadata": {},
   "outputs": [],
   "source": [
    "def mydecorator(fun):\n",
    "    def wrapper(arg):\n",
    "        fun(arg)\n",
    "    return wrapper"
   ]
  },
  {
   "cell_type": "code",
   "execution_count": 2,
   "id": "658d2831",
   "metadata": {},
   "outputs": [],
   "source": [
    "@mydecorator\n",
    "def myfun(name):\n",
    "    print(name)"
   ]
  },
  {
   "cell_type": "code",
   "execution_count": 3,
   "id": "ea6b10b6",
   "metadata": {},
   "outputs": [
    {
     "name": "stdout",
     "output_type": "stream",
     "text": [
      "hello\n"
     ]
    }
   ],
   "source": [
    "myfun('hello')"
   ]
  },
  {
   "cell_type": "code",
   "execution_count": 4,
   "id": "8f0fa737",
   "metadata": {},
   "outputs": [],
   "source": [
    "def mydecorator(fun):\n",
    "    def wrapper(*arg):\n",
    "        fun(*arg)\n",
    "    return wrapper"
   ]
  },
  {
   "cell_type": "code",
   "execution_count": 5,
   "id": "fe5a7b3f",
   "metadata": {},
   "outputs": [],
   "source": [
    "@mydecorator\n",
    "def conversion(l1):\n",
    "    for i in l1:\n",
    "        res=i.upper()\n",
    "        print(res)"
   ]
  },
  {
   "cell_type": "code",
   "execution_count": 6,
   "id": "1cebfb44",
   "metadata": {},
   "outputs": [
    {
     "name": "stdout",
     "output_type": "stream",
     "text": [
      "VINNI\n",
      "KONKA\n"
     ]
    }
   ],
   "source": [
    "conversion([\"vinni\",\"konka\"])"
   ]
  },
  {
   "cell_type": "code",
   "execution_count": 7,
   "id": "94f4f513",
   "metadata": {},
   "outputs": [],
   "source": [
    "def mydecorator(fun):\n",
    "    def inner(*args):\n",
    "        f,s=args\n",
    "        return fun(f.upper(),s.upper())\n",
    "    return inner"
   ]
  },
  {
   "cell_type": "code",
   "execution_count": 8,
   "id": "4191a121",
   "metadata": {},
   "outputs": [],
   "source": [
    "@mydecorator\n",
    "def my_func(f,s):\n",
    "     if type(s)==str and type(s)==str:\n",
    "        return f,s"
   ]
  },
  {
   "cell_type": "code",
   "execution_count": 9,
   "id": "bf9fa62b",
   "metadata": {},
   "outputs": [
    {
     "data": {
      "text/plain": [
       "('KONKA', 'VINNI')"
      ]
     },
     "execution_count": 9,
     "metadata": {},
     "output_type": "execute_result"
    }
   ],
   "source": [
    "my_func(\"konka\",'vinni')"
   ]
  },
  {
   "cell_type": "code",
   "execution_count": 10,
   "id": "626e332a",
   "metadata": {},
   "outputs": [
    {
     "name": "stdout",
     "output_type": "stream",
     "text": [
      "Second largest element is: 45\n"
     ]
    }
   ],
   "source": [
    "# Python program to find largest number in a list\n",
    " \n",
    "list1 = [10, 20, 4, 45, 99]\n",
    " \n",
    "# sorting the list\n",
    "list1.sort()\n",
    " \n",
    "print(\"Second largest element is:\", list1[-2])"
   ]
  },
  {
   "cell_type": "code",
   "execution_count": 11,
   "id": "4609e6ab",
   "metadata": {},
   "outputs": [
    {
     "name": "stdout",
     "output_type": "stream",
     "text": [
      "[3, 4]\n"
     ]
    }
   ],
   "source": [
    "# slicing a list\n",
    "my_list = [1, 2, 3, 4, 5]\n",
    "\n",
    "print(my_list[2:4])\n"
   ]
  },
  {
   "cell_type": "code",
   "execution_count": 12,
   "id": "8c180e77",
   "metadata": {},
   "outputs": [
    {
     "name": "stdout",
     "output_type": "stream",
     "text": [
      "[1, 3, 5]\n"
     ]
    }
   ],
   "source": [
    "my_list = [1, 2, 3, 4, 5]\n",
    "\n",
    "print(my_list[::2])\n"
   ]
  },
  {
   "cell_type": "code",
   "execution_count": 13,
   "id": "808d8295",
   "metadata": {},
   "outputs": [
    {
     "name": "stdout",
     "output_type": "stream",
     "text": [
      "[5, 3, 1]\n"
     ]
    }
   ],
   "source": [
    "my_list = [1, 2, 3, 4, 5]\n",
    "\n",
    "print(my_list[::-2])\n"
   ]
  },
  {
   "cell_type": "code",
   "execution_count": 14,
   "id": "b5debe68",
   "metadata": {},
   "outputs": [
    {
     "name": "stdout",
     "output_type": "stream",
     "text": [
      "[2, 4]\n"
     ]
    }
   ],
   "source": [
    "my_list = [1, 2, 3, 4, 5]\n",
    "\n",
    "print(my_list[1:4:2])"
   ]
  },
  {
   "cell_type": "code",
   "execution_count": 15,
   "id": "2a8e398a",
   "metadata": {},
   "outputs": [
    {
     "name": "stdout",
     "output_type": "stream",
     "text": [
      "This is a python\n"
     ]
    }
   ],
   "source": [
    "#Capitalize the First Character of a String\n",
    "my_string = \"this is a python\"\n",
    "\n",
    "print(my_string[0].upper() + my_string[1:])\n"
   ]
  },
  {
   "cell_type": "code",
   "execution_count": 16,
   "id": "920ae0bc",
   "metadata": {},
   "outputs": [
    {
     "name": "stdout",
     "output_type": "stream",
     "text": [
      "Welcome python\n"
     ]
    }
   ],
   "source": [
    "my_string = \"welcome python\"\n",
    "\n",
    "string = my_string.capitalize()\n",
    "\n",
    "print(string)\n"
   ]
  },
  {
   "cell_type": "code",
   "execution_count": 17,
   "id": "213fc849",
   "metadata": {},
   "outputs": [
    {
     "name": "stdout",
     "output_type": "stream",
     "text": [
      "[1, 2, 4, 6]\n"
     ]
    }
   ],
   "source": [
    "# Remove Duplicate Element From a List\n",
    "list_1 = [1, 2, 1, 4, 6]\n",
    "\n",
    "print(list(set(list_1)))"
   ]
  },
  {
   "cell_type": "code",
   "execution_count": 18,
   "id": "4ed57fe1",
   "metadata": {},
   "outputs": [],
   "source": [
    "#Iterator\n",
    "# Iterator is an object that iterates over iterable objects like list ,tuple, strings\n",
    "#Implementing __iter__ and __next__ protocols"
   ]
  },
  {
   "cell_type": "code",
   "execution_count": 19,
   "id": "a7950193",
   "metadata": {},
   "outputs": [],
   "source": [
    "l=[1,2,3,'a','sandy',True,False]"
   ]
  },
  {
   "cell_type": "code",
   "execution_count": 20,
   "id": "19228afe",
   "metadata": {},
   "outputs": [
    {
     "data": {
      "text/plain": [
       "[1, 2, 3, 'a', 'sandy', True, False]"
      ]
     },
     "execution_count": 20,
     "metadata": {},
     "output_type": "execute_result"
    }
   ],
   "source": [
    "l"
   ]
  },
  {
   "cell_type": "code",
   "execution_count": 21,
   "id": "7cc08531",
   "metadata": {},
   "outputs": [],
   "source": [
    "m = l.__iter__()"
   ]
  },
  {
   "cell_type": "code",
   "execution_count": 22,
   "id": "db07db24",
   "metadata": {},
   "outputs": [
    {
     "data": {
      "text/plain": [
       "1"
      ]
     },
     "execution_count": 22,
     "metadata": {},
     "output_type": "execute_result"
    }
   ],
   "source": [
    "m.__next__()"
   ]
  },
  {
   "cell_type": "code",
   "execution_count": 23,
   "id": "d186bb46",
   "metadata": {},
   "outputs": [
    {
     "data": {
      "text/plain": [
       "2"
      ]
     },
     "execution_count": 23,
     "metadata": {},
     "output_type": "execute_result"
    }
   ],
   "source": [
    "m.__next__()"
   ]
  },
  {
   "cell_type": "code",
   "execution_count": 24,
   "id": "a7d048db",
   "metadata": {},
   "outputs": [
    {
     "data": {
      "text/plain": [
       "3"
      ]
     },
     "execution_count": 24,
     "metadata": {},
     "output_type": "execute_result"
    }
   ],
   "source": [
    "m.__next__()"
   ]
  },
  {
   "cell_type": "code",
   "execution_count": 25,
   "id": "0cdc18d0",
   "metadata": {},
   "outputs": [
    {
     "data": {
      "text/plain": [
       "'a'"
      ]
     },
     "execution_count": 25,
     "metadata": {},
     "output_type": "execute_result"
    }
   ],
   "source": [
    "next(m)"
   ]
  },
  {
   "cell_type": "code",
   "execution_count": 26,
   "id": "f9e18bb4",
   "metadata": {},
   "outputs": [
    {
     "data": {
      "text/plain": [
       "'sandy'"
      ]
     },
     "execution_count": 26,
     "metadata": {},
     "output_type": "execute_result"
    }
   ],
   "source": [
    "next(m)"
   ]
  },
  {
   "cell_type": "code",
   "execution_count": 27,
   "id": "372890aa",
   "metadata": {},
   "outputs": [
    {
     "data": {
      "text/plain": [
       "True"
      ]
     },
     "execution_count": 27,
     "metadata": {},
     "output_type": "execute_result"
    }
   ],
   "source": [
    "next(m)"
   ]
  },
  {
   "cell_type": "code",
   "execution_count": 28,
   "id": "97b4c519",
   "metadata": {},
   "outputs": [
    {
     "data": {
      "text/plain": [
       "False"
      ]
     },
     "execution_count": 28,
     "metadata": {},
     "output_type": "execute_result"
    }
   ],
   "source": [
    "next(m)"
   ]
  },
  {
   "cell_type": "code",
   "execution_count": 29,
   "id": "161d9987",
   "metadata": {},
   "outputs": [
    {
     "ename": "StopIteration",
     "evalue": "",
     "output_type": "error",
     "traceback": [
      "\u001b[1;31m---------------------------------------------------------------------------\u001b[0m",
      "\u001b[1;31mStopIteration\u001b[0m                             Traceback (most recent call last)",
      "\u001b[1;32m<ipython-input-29-8efa10874b95>\u001b[0m in \u001b[0;36m<module>\u001b[1;34m\u001b[0m\n\u001b[1;32m----> 1\u001b[1;33m \u001b[0mnext\u001b[0m\u001b[1;33m(\u001b[0m\u001b[0mm\u001b[0m\u001b[1;33m)\u001b[0m\u001b[1;33m\u001b[0m\u001b[1;33m\u001b[0m\u001b[0m\n\u001b[0m",
      "\u001b[1;31mStopIteration\u001b[0m: "
     ]
    }
   ],
   "source": [
    "next(m)"
   ]
  },
  {
   "cell_type": "code",
   "execution_count": null,
   "id": "d936d1f5",
   "metadata": {},
   "outputs": [],
   "source": [
    "#Generator -> In python Generator is an function that is used to create our own iterator objects"
   ]
  },
  {
   "cell_type": "code",
   "execution_count": 30,
   "id": "6e36d9ad",
   "metadata": {},
   "outputs": [],
   "source": [
    "def my_func():\n",
    "    yield 'Hi Guys'\n",
    "    yield 'Iam generator object'\n",
    "    yield 'Yields every object one at a time'\n",
    "    yield 'next stop iteration comes'"
   ]
  },
  {
   "cell_type": "code",
   "execution_count": 31,
   "id": "6f9ffe91",
   "metadata": {},
   "outputs": [
    {
     "data": {
      "text/plain": [
       "<generator object my_func at 0x000002D64AEF8820>"
      ]
     },
     "execution_count": 31,
     "metadata": {},
     "output_type": "execute_result"
    }
   ],
   "source": [
    "my_func()"
   ]
  },
  {
   "cell_type": "code",
   "execution_count": 32,
   "id": "f9448059",
   "metadata": {},
   "outputs": [],
   "source": [
    "f=my_func()"
   ]
  },
  {
   "cell_type": "code",
   "execution_count": 33,
   "id": "96d0adc9",
   "metadata": {},
   "outputs": [
    {
     "data": {
      "text/plain": [
       "<generator object my_func at 0x000002D64AEF86D0>"
      ]
     },
     "execution_count": 33,
     "metadata": {},
     "output_type": "execute_result"
    }
   ],
   "source": [
    "f"
   ]
  },
  {
   "cell_type": "code",
   "execution_count": 34,
   "id": "f71a696a",
   "metadata": {},
   "outputs": [
    {
     "data": {
      "text/plain": [
       "'Hi Guys'"
      ]
     },
     "execution_count": 34,
     "metadata": {},
     "output_type": "execute_result"
    }
   ],
   "source": [
    "f.__next__()"
   ]
  },
  {
   "cell_type": "code",
   "execution_count": 35,
   "id": "b1c62b96",
   "metadata": {},
   "outputs": [
    {
     "data": {
      "text/plain": [
       "'Iam generator object'"
      ]
     },
     "execution_count": 35,
     "metadata": {},
     "output_type": "execute_result"
    }
   ],
   "source": [
    "next(f)"
   ]
  },
  {
   "cell_type": "code",
   "execution_count": 36,
   "id": "4889103d",
   "metadata": {},
   "outputs": [
    {
     "data": {
      "text/plain": [
       "'Yields every object one at a time'"
      ]
     },
     "execution_count": 36,
     "metadata": {},
     "output_type": "execute_result"
    }
   ],
   "source": [
    "next(f)"
   ]
  },
  {
   "cell_type": "code",
   "execution_count": 37,
   "id": "35bd9095",
   "metadata": {},
   "outputs": [
    {
     "data": {
      "text/plain": [
       "'next stop iteration comes'"
      ]
     },
     "execution_count": 37,
     "metadata": {},
     "output_type": "execute_result"
    }
   ],
   "source": [
    "next(f)"
   ]
  },
  {
   "cell_type": "code",
   "execution_count": 38,
   "id": "c35326f9",
   "metadata": {},
   "outputs": [
    {
     "ename": "StopIteration",
     "evalue": "",
     "output_type": "error",
     "traceback": [
      "\u001b[1;31m---------------------------------------------------------------------------\u001b[0m",
      "\u001b[1;31mStopIteration\u001b[0m                             Traceback (most recent call last)",
      "\u001b[1;32m<ipython-input-38-aff1dd02a623>\u001b[0m in \u001b[0;36m<module>\u001b[1;34m\u001b[0m\n\u001b[1;32m----> 1\u001b[1;33m \u001b[0mnext\u001b[0m\u001b[1;33m(\u001b[0m\u001b[0mf\u001b[0m\u001b[1;33m)\u001b[0m\u001b[1;33m\u001b[0m\u001b[1;33m\u001b[0m\u001b[0m\n\u001b[0m",
      "\u001b[1;31mStopIteration\u001b[0m: "
     ]
    }
   ],
   "source": [
    "next(f)"
   ]
  },
  {
   "cell_type": "code",
   "execution_count": 39,
   "id": "3ad5f36e",
   "metadata": {},
   "outputs": [],
   "source": [
    "#Factorial of a number\n",
    "def fact(num):\n",
    "    if num==0 or num==1:\n",
    "        return 1\n",
    "    else:\n",
    "        return num*fact(num-1)"
   ]
  },
  {
   "cell_type": "code",
   "execution_count": 40,
   "id": "d9862999",
   "metadata": {},
   "outputs": [
    {
     "data": {
      "text/plain": [
       "24"
      ]
     },
     "execution_count": 40,
     "metadata": {},
     "output_type": "execute_result"
    }
   ],
   "source": [
    "fact(4)"
   ]
  },
  {
   "cell_type": "code",
   "execution_count": null,
   "id": "0a763221",
   "metadata": {},
   "outputs": [],
   "source": []
  }
 ],
 "metadata": {
  "kernelspec": {
   "display_name": "Python 3",
   "language": "python",
   "name": "python3"
  },
  "language_info": {
   "codemirror_mode": {
    "name": "ipython",
    "version": 3
   },
   "file_extension": ".py",
   "mimetype": "text/x-python",
   "name": "python",
   "nbconvert_exporter": "python",
   "pygments_lexer": "ipython3",
   "version": "3.9.7"
  }
 },
 "nbformat": 4,
 "nbformat_minor": 5
}
